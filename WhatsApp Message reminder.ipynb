{
 "cells": [
  {
   "cell_type": "code",
   "execution_count": null,
   "id": "4b7a615b",
   "metadata": {},
   "outputs": [
    {
     "name": "stdout",
     "output_type": "stream",
     "text": [
      "In 71873 Seconds WhatsApp will open and after 15 Seconds Message will be Delivered!\n"
     ]
    }
   ],
   "source": [
    "import pywhatkit\n",
    "import time\n",
    "\n",
    "while True:\n",
    "    # Send the first message at 10:30 AM\n",
    "    pywhatkit.sendwhatmsg(\"+972543131379\", \"Please remember to drink water!\", time_hour=10, time_min=30)\n",
    "    print(\"Successfully Sent!\")\n",
    "\n",
    "    # Wait for 3 hours before sending the next message\n",
    "    time.sleep(10800)\n",
    "\n",
    "    # Send the second message at 1:30 PM\n",
    "    pywhatkit.sendwhatmsg(\"+972543131379\", \"Please remember to drink water!\", time_hour=13, time_min=30)\n",
    "    print(\"Successfully Sent\"\n",
    "          \"!\")\n",
    "\n",
    "    # Wait for 3 hours before sending the next message\n",
    "    time.sleep(10800)\n",
    "\n",
    "    # Send the third message at 4:30 PM\n",
    "    pywhatkit.sendwhatmsg(\"+972543131379\", \"Please remember to drink water!\", time_hour=16, time_min=30)\n",
    "    print(\"Successfully Sent!\")\n",
    "\n",
    "    # Wait for 8 hours before sending the messages again\n",
    "    time.sleep(28800)\n",
    "\n"
   ]
  },
  {
   "cell_type": "code",
   "execution_count": null,
   "id": "08bf5897",
   "metadata": {},
   "outputs": [],
   "source": []
  }
 ],
 "metadata": {
  "kernelspec": {
   "display_name": "Python 3 (ipykernel)",
   "language": "python",
   "name": "python3"
  },
  "language_info": {
   "codemirror_mode": {
    "name": "ipython",
    "version": 3
   },
   "file_extension": ".py",
   "mimetype": "text/x-python",
   "name": "python",
   "nbconvert_exporter": "python",
   "pygments_lexer": "ipython3",
   "version": "3.9.13"
  }
 },
 "nbformat": 4,
 "nbformat_minor": 5
}
